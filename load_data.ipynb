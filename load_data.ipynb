{
 "cells": [
  {
   "cell_type": "code",
   "execution_count": null,
   "metadata": {},
   "outputs": [],
   "source": [
    "import pandas as pd\n",
    "import io"
   ]
  },
  {
   "cell_type": "code",
   "execution_count": null,
   "metadata": {},
   "outputs": [],
   "source": [
    "departments_csv = 'data/departments.csv'\n",
    "dept_emp_csv = 'data/dept_emp.csv'\n",
    "dept_manager_csv = 'data/dept_manager.csv'\n",
    "employees_csv = 'data/employees.csv'\n",
    "salaries_csv = 'data/salaries.csv'\n",
    "titles_csv = 'data/titles.csv'"
   ]
  },
  {
   "cell_type": "code",
   "execution_count": null,
   "metadata": {},
   "outputs": [],
   "source": [
    "# Load departments\n",
    "departments_df = pd.read_csv(departments_csv, low_memory=False)\n",
    "departments_df"
   ]
  },
  {
   "cell_type": "code",
   "execution_count": null,
   "metadata": {},
   "outputs": [],
   "source": [
    "departments_sql = \"INSERT INTO departments (dept_no, dept_name) \\nVALUES\"\n",
    "\n",
    "for index,row in departments_df.iterrows():\n",
    "    if index != 0:\n",
    "        departments_sql = departments_sql + ', '\n",
    "    departments_sql = departments_sql + (f\"\\n\\t(\\'{row['dept_no']}\\', \\'{row['dept_name']}\\')\")\n",
    " \n",
    "departments_sql = departments_sql + ';'\n",
    "print(departments_sql)\n",
    "output_file = open(\"data/load_departments.sql\",\"w\")\n",
    "output_file.write(departments_sql)\n",
    "output_file.close()"
   ]
  },
  {
   "cell_type": "code",
   "execution_count": null,
   "metadata": {},
   "outputs": [],
   "source": [
    "# Load titles\n",
    "titles_df = pd.read_csv(titles_csv)\n",
    "titles_df"
   ]
  },
  {
   "cell_type": "code",
   "execution_count": null,
   "metadata": {},
   "outputs": [],
   "source": [
    "titles_sql = \"INSERT INTO titles (title_id, title) \\nVALUES\"\n",
    "\n",
    "for index,row in titles_df.iterrows():\n",
    "    if index != 0:\n",
    "        titles_sql = titles_sql + ', '\n",
    "    titles_sql = titles_sql + (f\"\\n\\t(\\'{row['title_id']}\\', \\'{row['title']}\\')\")\n",
    " \n",
    "titles_sql = titles_sql + ';'\n",
    "print(titles_sql)\n",
    "output_file = open(\"data/load_titles.sql\",\"w\")\n",
    "output_file.write(titles_sql)\n",
    "output_file.close()"
   ]
  },
  {
   "cell_type": "code",
   "execution_count": null,
   "metadata": {},
   "outputs": [],
   "source": [
    "# Load salaries\n",
    "salaries_df = pd.read_csv(salaries_csv)\n",
    "salaries_df"
   ]
  },
  {
   "cell_type": "code",
   "execution_count": null,
   "metadata": {},
   "outputs": [],
   "source": [
    "salaries_sql = \"INSERT INTO salaries (emp_no, salary) \\nVALUES\"\n",
    "\n",
    "for index,row in salaries_df.iterrows():\n",
    "    if index != 0:\n",
    "        salaries_sql = salaries_sql + ', '\n",
    "    salaries_sql = salaries_sql + (f\"\\n\\t(\\'{row['emp_no']}\\', \\'{row['salary']}\\')\")\n",
    " \n",
    "salaries_sql = salaries_sql + ';'\n",
    "print(salaries_sql)\n",
    "output_file = open(\"data/load_salaries.sql\",\"w\")\n",
    "output_file.write(salaries_sql)\n",
    "output_file.close()"
   ]
  },
  {
   "cell_type": "code",
   "execution_count": null,
   "metadata": {},
   "outputs": [],
   "source": [
    "# Load employees\n",
    "employees_df = pd.read_csv(employees_csv)\n",
    "employees_df"
   ]
  },
  {
   "cell_type": "code",
   "execution_count": null,
   "metadata": {},
   "outputs": [],
   "source": [
    "employees_sql = \"INSERT INTO employees (emp_no, emp_title_id, birth_date, first_name, last_name, sex, hire_date) \\nVALUES\"\n",
    "\n",
    "for index,row in employees_df.iterrows():\n",
    "    if index != 0:\n",
    "        employees_sql = employees_sql + ', '\n",
    "    employees_sql = employees_sql + (f\"\\n\\t(\\'{row['emp_no']}\\', \\'{row['emp_title_id']}\\', \\'{row['birth_date']}\\', \\'{row['first_name']}\\', \\'{row['last_name']}\\', \\'{row['sex']}\\', \\'{row['hire_date']}\\')\")\n",
    " \n",
    "employees_sql = employees_sql + ';'\n",
    "#print(employees_sql)\n",
    "output_file = open(\"data/load_employees.sql\",\"w\")\n",
    "output_file.write(employees_sql)\n",
    "output_file.close()"
   ]
  },
  {
   "cell_type": "code",
   "execution_count": null,
   "metadata": {},
   "outputs": [],
   "source": [
    "# Load dept_emp\n",
    "dept_emp_df = pd.read_csv(dept_emp_csv)\n",
    "dept_emp_df"
   ]
  },
  {
   "cell_type": "code",
   "execution_count": null,
   "metadata": {},
   "outputs": [],
   "source": [
    "dept_emp_sql = \"INSERT INTO dept_emp (emp_no, debt_no) \\nVALUES\"\n",
    "\n",
    "for index,row in dept_emp_df.iterrows():\n",
    "    if index != 0:\n",
    "        dept_emp_sql = dept_emp_sql + ', '\n",
    "    dept_emp_sql = dept_emp_sql + (f\"\\n\\t(\\'{row['emp_no']}\\',\\'{row['dept_no']}\\')\")\n",
    " \n",
    "dept_emp_sql = dept_emp_sql + ';'\n",
    "print(dept_emp_sql)\n",
    "output_file = open(\"data/load_dept_emp.sql\",\"w\")\n",
    "output_file.write(dept_emp_sql)\n",
    "output_file.close()"
   ]
  },
  {
   "cell_type": "code",
   "execution_count": null,
   "metadata": {},
   "outputs": [],
   "source": [
    "# Load dept_manager\n",
    "dept_manager_df = pd.read_csv(dept_manager_csv)\n",
    "dept_manager_df"
   ]
  },
  {
   "cell_type": "code",
   "execution_count": null,
   "metadata": {},
   "outputs": [],
   "source": [
    "dept_manager_sql = \"INSERT INTO dept_manager (emp_no, debt_no) \\nVALUES\"\n",
    "\n",
    "for index,row in dept_emp_df.iterrows():\n",
    "    if index != 0:\n",
    "        dept_manager_sql = dept_manager_sql + ', '\n",
    "    dept_manager_sql = dept_manager_sql + (f\"\\n\\t(\\'{row['dept_no']}\\',\\'{row['emp_no']}\\')\")\n",
    " \n",
    "dept_manager_sql = dept_manager_sql + ';'\n",
    "print(dept_manager_sql)\n",
    "output_file = open(\"data/load_dept_manager.sql\",\"w\")\n",
    "output_file.write(dept_manager_sql)\n",
    "output_file.close()"
   ]
  }
 ],
 "metadata": {
  "kernelspec": {
   "display_name": "Python 3",
   "language": "python",
   "name": "python3"
  },
  "language_info": {
   "codemirror_mode": {
    "name": "ipython",
    "version": 3
   },
   "file_extension": ".py",
   "mimetype": "text/x-python",
   "name": "python",
   "nbconvert_exporter": "python",
   "pygments_lexer": "ipython3",
   "version": "3.6.10"
  }
 },
 "nbformat": 4,
 "nbformat_minor": 4
}

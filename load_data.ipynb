{
 "cells": [
  {
   "cell_type": "code",
   "execution_count": null,
   "metadata": {},
   "outputs": [],
   "source": [
    "import pandas as pd\n",
    "import io"
   ]
  },
  {
   "cell_type": "code",
   "execution_count": null,
   "metadata": {},
   "outputs": [],
   "source": [
    "departments_csv = 'data/departments.csv'\n",
    "dept_emp_cvs = 'data/dept_emp_csv'\n",
    "dept_manager_csv = 'data/dept_manager_csv'\n",
    "employees_csv = 'data/employees.csv'\n",
    "salaries_csv = 'data/salaries.csv'\n",
    "titles_csv = 'data/titles.csv'"
   ]
  },
  {
   "cell_type": "code",
   "execution_count": null,
   "metadata": {},
   "outputs": [],
   "source": [
    "# Load departments\n",
    "departments_df = pd.read_csv(departments_csv, low_memory=False)\n",
    "departments_df"
   ]
  },
  {
   "cell_type": "code",
   "execution_count": null,
   "metadata": {},
   "outputs": [],
   "source": [
    "departments_sql = \"INSERT INTO departments (dept_no, dept_name) \\nVALUES\"\n",
    "\n",
    "for index,row in departments_df.iterrows():\n",
    "    if index != 0:\n",
    "        departments_sql = departments_sql + ', '\n",
    "    departments_sql = departments_sql + (f\"\\n\\t(\\'{row['dept_no']}\\', \\'{row['dept_name']}\\')\")\n",
    " \n",
    "departments_sql = departments_sql + ';'\n",
    "print(departments_sql)\n",
    "output_file = open(\"data/load_departments.sql\",\"w\")\n",
    "output_file.write(departments_sql)\n",
    "output_file.close()"
   ]
  },
  {
   "cell_type": "code",
   "execution_count": null,
   "metadata": {},
   "outputs": [],
   "source": [
    "# Load employees\n",
    "employee_df = pd.read_csv(employees)"
   ]
  },
  {
   "cell_type": "code",
   "execution_count": null,
   "metadata": {},
   "outputs": [],
   "source": [
    "# Load dept_emp"
   ]
  },
  {
   "cell_type": "code",
   "execution_count": null,
   "metadata": {},
   "outputs": [],
   "source": [
    "# Load dept_manager"
   ]
  },
  {
   "cell_type": "code",
   "execution_count": null,
   "metadata": {},
   "outputs": [],
   "source": [
    "# Load titles"
   ]
  },
  {
   "cell_type": "code",
   "execution_count": null,
   "metadata": {},
   "outputs": [],
   "source": [
    "# Load salaries"
   ]
  },
  {
   "cell_type": "code",
   "execution_count": null,
   "metadata": {},
   "outputs": [],
   "source": []
  },
  {
   "cell_type": "code",
   "execution_count": null,
   "metadata": {},
   "outputs": [],
   "source": []
  },
  {
   "cell_type": "code",
   "execution_count": null,
   "metadata": {},
   "outputs": [],
   "source": []
  },
  {
   "cell_type": "code",
   "execution_count": null,
   "metadata": {},
   "outputs": [],
   "source": []
  }
 ],
 "metadata": {
  "kernelspec": {
   "display_name": "Python 3",
   "language": "python",
   "name": "python3"
  },
  "language_info": {
   "codemirror_mode": {
    "name": "ipython",
    "version": 3
   },
   "file_extension": ".py",
   "mimetype": "text/x-python",
   "name": "python",
   "nbconvert_exporter": "python",
   "pygments_lexer": "ipython3",
   "version": "3.6.10"
  }
 },
 "nbformat": 4,
 "nbformat_minor": 4
}
